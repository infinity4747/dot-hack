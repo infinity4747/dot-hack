{
 "cells": [
  {
   "cell_type": "code",
   "execution_count": 266,
   "metadata": {},
   "outputs": [],
   "source": [
    "import pandas as pd\n",
    "import numpy as np\n",
    "import json\n",
    "from datetime import datetime, timedelta\n",
    "import seaborn as sns\n",
    "import matplotlib.pyplot as plt"
   ]
  },
  {
   "cell_type": "code",
   "execution_count": 267,
   "metadata": {},
   "outputs": [],
   "source": [
    "with open('../dot_team/new.json') as data_file:\n",
    "    data = json.load(data_file)[0]"
   ]
  },
  {
   "cell_type": "code",
   "execution_count": 268,
   "metadata": {},
   "outputs": [],
   "source": [
    "username = data['FullName']\n",
    "posts = data['posts']\n",
    "followers = data['Followers']\n",
    "folowing = data['Folowing']"
   ]
  },
  {
   "cell_type": "code",
   "execution_count": 298,
   "metadata": {},
   "outputs": [],
   "source": [
    "#data"
   ]
  },
  {
   "cell_type": "code",
   "execution_count": 299,
   "metadata": {},
   "outputs": [],
   "source": [
    "#folowing, followers"
   ]
  },
  {
   "cell_type": "code",
   "execution_count": 271,
   "metadata": {},
   "outputs": [
    {
     "name": "stdout",
     "output_type": "stream",
     "text": [
      "Followers  317 \n",
      "Folowing  720\n"
     ]
    },
    {
     "data": {
      "image/png": "[encoded data removed]",
      "text/plain": [
       "<Figure size 360x360 with 1 Axes>"
      ]
     },
     "metadata": {},
     "output_type": "display_data"
    }
   ],
   "source": [
    "df = pd.DataFrame({'': [followers, folowing]},\n",
    "                   index=['Followers', 'Folowing'])\n",
    "plot = df.plot.pie(y='', figsize=(5, 5))\n",
    "print('Followers ', followers, '\\nFolowing ', folowing)"
   ]
  },
  {
   "cell_type": "code",
   "execution_count": null,
   "metadata": {},
   "outputs": [],
   "source": []
  },
  {
   "cell_type": "code",
   "execution_count": 272,
   "metadata": {},
   "outputs": [],
   "source": [
    "data = pd.DataFrame(columns=['likes', 'comments', 'location', 'date'])"
   ]
  },
  {
   "cell_type": "code",
   "execution_count": 273,
   "metadata": {},
   "outputs": [],
   "source": [
    "for i in range(len(posts)):\n",
    "    posts[i]['date'] = datetime.fromtimestamp(posts[i]['date'])\n",
    "    data = data.append(posts[i], ignore_index=True)\n",
    "data.drop('id', axis=1, inplace=True)"
   ]
  },
  {
   "cell_type": "code",
   "execution_count": 274,
   "metadata": {},
   "outputs": [],
   "source": [
    "data['weekday'] = data['date'].dt.day_name()"
   ]
  },
  {
   "cell_type": "code",
   "execution_count": 275,
   "metadata": {},
   "outputs": [],
   "source": [
    "data['year'] = [d.year for d in data.date]\n",
    "data['month'] = [d.month for d in data.date]\n",
    "data['hour'] = [d.hour for d in data.date]\n",
    "data['day'] = [d.day for d in data.date]"
   ]
  },
  {
   "cell_type": "code",
   "execution_count": 300,
   "metadata": {},
   "outputs": [
    {
     "data": {
      "text/html": [
       "<div>\n",
       "<style scoped>\n",
       "    .dataframe tbody tr th:only-of-type {\n",
       "        vertical-align: middle;\n",
       "    }\n",
       "\n",
       "    .dataframe tbody tr th {\n",
       "        vertical-align: top;\n",
       "    }\n",
       "\n",
       "    .dataframe thead th {\n",
       "        text-align: right;\n",
       "    }\n",
       "</style>\n",
       "<table border=\"1\" class=\"dataframe\">\n",
       "  <thead>\n",
       "    <tr style=\"text-align: right;\">\n",
       "      <th></th>\n",
       "      <th>likes</th>\n",
       "      <th>comments</th>\n",
       "      <th>location</th>\n",
       "      <th>date</th>\n",
       "      <th>weekday</th>\n",
       "      <th>year</th>\n",
       "      <th>month</th>\n",
       "      <th>hour</th>\n",
       "      <th>day</th>\n",
       "    </tr>\n",
       "  </thead>\n",
       "  <tbody>\n",
       "    <tr>\n",
       "      <th>0</th>\n",
       "      <td>97</td>\n",
       "      <td>8</td>\n",
       "      <td>Almaty, Kazakhstan</td>\n",
       "      <td>2019-06-26 16:45:45</td>\n",
       "      <td>Wednesday</td>\n",
       "      <td>2019</td>\n",
       "      <td>6</td>\n",
       "      <td>16</td>\n",
       "      <td>26</td>\n",
       "    </tr>\n",
       "    <tr>\n",
       "      <th>1</th>\n",
       "      <td>107</td>\n",
       "      <td>19</td>\n",
       "      <td>Almaty, Kazakhstan</td>\n",
       "      <td>2019-03-21 21:41:29</td>\n",
       "      <td>Thursday</td>\n",
       "      <td>2019</td>\n",
       "      <td>3</td>\n",
       "      <td>21</td>\n",
       "      <td>21</td>\n",
       "    </tr>\n",
       "    <tr>\n",
       "      <th>2</th>\n",
       "      <td>136</td>\n",
       "      <td>4</td>\n",
       "      <td>Almaty, Kazakhstan</td>\n",
       "      <td>2019-02-02 00:14:11</td>\n",
       "      <td>Saturday</td>\n",
       "      <td>2019</td>\n",
       "      <td>2</td>\n",
       "      <td>0</td>\n",
       "      <td>2</td>\n",
       "    </tr>\n",
       "    <tr>\n",
       "      <th>3</th>\n",
       "      <td>119</td>\n",
       "      <td>10</td>\n",
       "      <td>New York, New York</td>\n",
       "      <td>2018-11-12 21:31:12</td>\n",
       "      <td>Monday</td>\n",
       "      <td>2018</td>\n",
       "      <td>11</td>\n",
       "      <td>21</td>\n",
       "      <td>12</td>\n",
       "    </tr>\n",
       "    <tr>\n",
       "      <th>4</th>\n",
       "      <td>88</td>\n",
       "      <td>2</td>\n",
       "      <td>New York, New York</td>\n",
       "      <td>2018-10-04 03:49:15</td>\n",
       "      <td>Thursday</td>\n",
       "      <td>2018</td>\n",
       "      <td>10</td>\n",
       "      <td>3</td>\n",
       "      <td>4</td>\n",
       "    </tr>\n",
       "  </tbody>\n",
       "</table>\n",
       "</div>"
      ],
      "text/plain": [
       "   likes comments            location                date    weekday  year  \\\n",
       "0     97        8  Almaty, Kazakhstan 2019-06-26 16:45:45  Wednesday  2019   \n",
       "1    107       19  Almaty, Kazakhstan 2019-03-21 21:41:29   Thursday  2019   \n",
       "2    136        4  Almaty, Kazakhstan 2019-02-02 00:14:11   Saturday  2019   \n",
       "3    119       10  New York, New York 2018-11-12 21:31:12     Monday  2018   \n",
       "4     88        2  New York, New York 2018-10-04 03:49:15   Thursday  2018   \n",
       "\n",
       "   month  hour  day  \n",
       "0      6    16   26  \n",
       "1      3    21   21  \n",
       "2      2     0    2  \n",
       "3     11    21   12  \n",
       "4     10     3    4  "
      ]
     },
     "execution_count": 300,
     "metadata": {},
     "output_type": "execute_result"
    }
   ],
   "source": [
    "data.head()"
   ]
  },
  {
   "cell_type": "markdown",
   "metadata": {},
   "source": [
    "# count of avg(likes) per weekday"
   ]
  },
  {
   "cell_type": "code",
   "execution_count": 301,
   "metadata": {},
   "outputs": [
    {
     "data": {
      "image/png": "[encoded data removed]",
      "text/plain": [
       "<Figure size 720x360 with 1 Axes>"
      ]
     },
     "metadata": {
      "needs_background": "light"
     },
     "output_type": "display_data"
    }
   ],
   "source": [
    "data['likes'] = data['likes'].astype(int)\n",
    "d = data.groupby('weekday')['likes'].mean()\n",
    "d = pd.DataFrame({'weekday': d.index, 'likes': d.values})\n",
    "d.plot.bar(x='weekday', y='likes', rot=0, figsize=(10, 5));"
   ]
  },
  {
   "cell_type": "markdown",
   "metadata": {},
   "source": [
    "# count mean of comments per weekday"
   ]
  },
  {
   "cell_type": "code",
   "execution_count": 254,
   "metadata": {},
   "outputs": [
    {
     "data": {
      "image/png": "[encoded data removed]",
      "text/plain": [
       "<Figure size 720x360 with 1 Axes>"
      ]
     },
     "metadata": {
      "needs_background": "light"
     },
     "output_type": "display_data"
    }
   ],
   "source": [
    "data['comments'] = data['comments'].astype(int)\n",
    "d = data.groupby('weekday')['comments'].mean()\n",
    "#print(d.values)\n",
    "\n",
    "#d = data.groupby('weekday')['comments'].sum()\n",
    "d = pd.DataFrame({'weekday': d.index, 'comments': d.values})\n",
    "d.plot.bar(x='weekday', y='comments', rot=0, figsize=(10, 5));"
   ]
  },
  {
   "cell_type": "code",
   "execution_count": null,
   "metadata": {},
   "outputs": [],
   "source": []
  },
  {
   "cell_type": "code",
   "execution_count": 255,
   "metadata": {},
   "outputs": [],
   "source": [
    "d = data[data['year']==2019]"
   ]
  },
  {
   "cell_type": "markdown",
   "metadata": {},
   "source": [
    "# Count of posts per month in last year"
   ]
  },
  {
   "cell_type": "code",
   "execution_count": 256,
   "metadata": {},
   "outputs": [
    {
     "data": {
      "image/png": "[encoded data removed]",
      "text/plain": [
       "<Figure size 432x288 with 1 Axes>"
      ]
     },
     "metadata": {
      "needs_background": "light"
     },
     "output_type": "display_data"
    }
   ],
   "source": [
    "plt.figure(figsize=(6,4))\n",
    "sns.countplot(x = 'month', data = d);"
   ]
  },
  {
   "cell_type": "markdown",
   "metadata": {},
   "source": [
    "# when is the best time to post (likes)"
   ]
  },
  {
   "cell_type": "code",
   "execution_count": 257,
   "metadata": {},
   "outputs": [
    {
     "data": {
      "image/png": "[encoded data removed]",
      "text/plain": [
       "<Figure size 432x288 with 1 Axes>"
      ]
     },
     "metadata": {
      "needs_background": "light"
     },
     "output_type": "display_data"
    }
   ],
   "source": [
    "# for likes\n",
    "data.groupby('hour')['likes'].sum().plot();"
   ]
  },
  {
   "cell_type": "markdown",
   "metadata": {},
   "source": [
    "# when is the best time to post (coments)"
   ]
  },
  {
   "cell_type": "code",
   "execution_count": 258,
   "metadata": {
    "scrolled": true
   },
   "outputs": [
    {
     "data": {
      "image/png": "[encoded data removed]",
      "text/plain": [
       "<Figure size 432x288 with 1 Axes>"
      ]
     },
     "metadata": {
      "needs_background": "light"
     },
     "output_type": "display_data"
    }
   ],
   "source": [
    "#for comments\n",
    "data.groupby('hour')['comments'].sum().plot();"
   ]
  },
  {
   "cell_type": "markdown",
   "metadata": {},
   "source": [
    "# most liked post"
   ]
  },
  {
   "cell_type": "code",
   "execution_count": 259,
   "metadata": {},
   "outputs": [
    {
     "data": {
      "text/html": [
       "<div>\n",
       "<style scoped>\n",
       "    .dataframe tbody tr th:only-of-type {\n",
       "        vertical-align: middle;\n",
       "    }\n",
       "\n",
       "    .dataframe tbody tr th {\n",
       "        vertical-align: top;\n",
       "    }\n",
       "\n",
       "    .dataframe thead th {\n",
       "        text-align: right;\n",
       "    }\n",
       "</style>\n",
       "<table border=\"1\" class=\"dataframe\">\n",
       "  <thead>\n",
       "    <tr style=\"text-align: right;\">\n",
       "      <th></th>\n",
       "      <th>likes</th>\n",
       "      <th>comments</th>\n",
       "      <th>location</th>\n",
       "      <th>date</th>\n",
       "      <th>weekday</th>\n",
       "      <th>year</th>\n",
       "      <th>month</th>\n",
       "      <th>hour</th>\n",
       "      <th>day</th>\n",
       "    </tr>\n",
       "  </thead>\n",
       "  <tbody>\n",
       "    <tr>\n",
       "      <th>11</th>\n",
       "      <td>143</td>\n",
       "      <td>21</td>\n",
       "      <td>None</td>\n",
       "      <td>2017-10-15 00:34:09</td>\n",
       "      <td>Sunday</td>\n",
       "      <td>2017</td>\n",
       "      <td>10</td>\n",
       "      <td>0</td>\n",
       "      <td>15</td>\n",
       "    </tr>\n",
       "  </tbody>\n",
       "</table>\n",
       "</div>"
      ],
      "text/plain": [
       "    likes  comments location                date weekday  year  month  hour  \\\n",
       "11    143        21     None 2017-10-15 00:34:09  Sunday  2017     10     0   \n",
       "\n",
       "    day  \n",
       "11   15  "
      ]
     },
     "execution_count": 259,
     "metadata": {},
     "output_type": "execute_result"
    }
   ],
   "source": [
    "\n",
    "data[data['likes'] == data.likes.max()]\n"
   ]
  },
  {
   "cell_type": "code",
   "execution_count": 260,
   "metadata": {},
   "outputs": [],
   "source": [
    "#data['location'] = ['Almaty', 'Almaty', 'Almaty', 'New York', 'New York', 'London', 'London', 'Switzerland', 'Milan', 'Milan', 'Milan', 'Milan']"
   ]
  },
  {
   "cell_type": "code",
   "execution_count": 303,
   "metadata": {},
   "outputs": [
    {
     "data": {
      "text/html": [
       "<div>\n",
       "<style scoped>\n",
       "    .dataframe tbody tr th:only-of-type {\n",
       "        vertical-align: middle;\n",
       "    }\n",
       "\n",
       "    .dataframe tbody tr th {\n",
       "        vertical-align: top;\n",
       "    }\n",
       "\n",
       "    .dataframe thead th {\n",
       "        text-align: right;\n",
       "    }\n",
       "</style>\n",
       "<table border=\"1\" class=\"dataframe\">\n",
       "  <thead>\n",
       "    <tr style=\"text-align: right;\">\n",
       "      <th></th>\n",
       "      <th>likes</th>\n",
       "      <th>comments</th>\n",
       "      <th>location</th>\n",
       "      <th>date</th>\n",
       "      <th>weekday</th>\n",
       "      <th>year</th>\n",
       "      <th>month</th>\n",
       "      <th>hour</th>\n",
       "      <th>day</th>\n",
       "    </tr>\n",
       "  </thead>\n",
       "  <tbody>\n",
       "    <tr>\n",
       "      <th>0</th>\n",
       "      <td>97</td>\n",
       "      <td>8</td>\n",
       "      <td>Almaty, Kazakhstan</td>\n",
       "      <td>2019-06-26 16:45:45</td>\n",
       "      <td>Wednesday</td>\n",
       "      <td>2019</td>\n",
       "      <td>6</td>\n",
       "      <td>16</td>\n",
       "      <td>26</td>\n",
       "    </tr>\n",
       "    <tr>\n",
       "      <th>1</th>\n",
       "      <td>107</td>\n",
       "      <td>19</td>\n",
       "      <td>Almaty, Kazakhstan</td>\n",
       "      <td>2019-03-21 21:41:29</td>\n",
       "      <td>Thursday</td>\n",
       "      <td>2019</td>\n",
       "      <td>3</td>\n",
       "      <td>21</td>\n",
       "      <td>21</td>\n",
       "    </tr>\n",
       "    <tr>\n",
       "      <th>2</th>\n",
       "      <td>136</td>\n",
       "      <td>4</td>\n",
       "      <td>Almaty, Kazakhstan</td>\n",
       "      <td>2019-02-02 00:14:11</td>\n",
       "      <td>Saturday</td>\n",
       "      <td>2019</td>\n",
       "      <td>2</td>\n",
       "      <td>0</td>\n",
       "      <td>2</td>\n",
       "    </tr>\n",
       "    <tr>\n",
       "      <th>3</th>\n",
       "      <td>119</td>\n",
       "      <td>10</td>\n",
       "      <td>New York, New York</td>\n",
       "      <td>2018-11-12 21:31:12</td>\n",
       "      <td>Monday</td>\n",
       "      <td>2018</td>\n",
       "      <td>11</td>\n",
       "      <td>21</td>\n",
       "      <td>12</td>\n",
       "    </tr>\n",
       "    <tr>\n",
       "      <th>4</th>\n",
       "      <td>88</td>\n",
       "      <td>2</td>\n",
       "      <td>New York, New York</td>\n",
       "      <td>2018-10-04 03:49:15</td>\n",
       "      <td>Thursday</td>\n",
       "      <td>2018</td>\n",
       "      <td>10</td>\n",
       "      <td>3</td>\n",
       "      <td>4</td>\n",
       "    </tr>\n",
       "  </tbody>\n",
       "</table>\n",
       "</div>"
      ],
      "text/plain": [
       "   likes comments            location                date    weekday  year  \\\n",
       "0     97        8  Almaty, Kazakhstan 2019-06-26 16:45:45  Wednesday  2019   \n",
       "1    107       19  Almaty, Kazakhstan 2019-03-21 21:41:29   Thursday  2019   \n",
       "2    136        4  Almaty, Kazakhstan 2019-02-02 00:14:11   Saturday  2019   \n",
       "3    119       10  New York, New York 2018-11-12 21:31:12     Monday  2018   \n",
       "4     88        2  New York, New York 2018-10-04 03:49:15   Thursday  2018   \n",
       "\n",
       "   month  hour  day  \n",
       "0      6    16   26  \n",
       "1      3    21   21  \n",
       "2      2     0    2  \n",
       "3     11    21   12  \n",
       "4     10     3    4  "
      ]
     },
     "execution_count": 303,
     "metadata": {},
     "output_type": "execute_result"
    }
   ],
   "source": [
    "data.head()"
   ]
  },
  {
   "cell_type": "code",
   "execution_count": 304,
   "metadata": {},
   "outputs": [],
   "source": [
    "#data.groupby('location')['date'].agg(['min', 'max'])"
   ]
  },
  {
   "cell_type": "code",
   "execution_count": null,
   "metadata": {},
   "outputs": [],
   "source": []
  },
  {
   "cell_type": "code",
   "execution_count": 289,
   "metadata": {},
   "outputs": [],
   "source": [
    "data_for_cities = []\n",
    "previous = pd.Series(data.iloc[0])\n",
    "previous['location'] = ''\n",
    "days_in_holiday = 0\n",
    "i = 0\n",
    "holidays = {}\n",
    "index_start = 0\n",
    "\n",
    "for index, row in data.iterrows():\n",
    "    #print(type(row)\n",
    "    location = row['location']\n",
    "    if previous['location'] == location:\n",
    "        days_in_holiday += (previous['date'] - row['date']).days\n",
    "    else:\n",
    "        #print()datetime.today() - timedelta(days=days_to_subtract)\n",
    "        holidays[i] = {'location': previous.location, 'start': previous.date  - timedelta(days=days_in_holiday), 'days': days_in_holiday, 'finish': previous.date, 'posts_count': index - index_start}\n",
    "        data_hol = [previous.location, previous.date  - timedelta(days=days_in_holiday), days_in_holiday, previous.date, index - index_start]\n",
    "        data_for_cities.append(data_hol)\n",
    "        i += 1\n",
    "        previous = row\n",
    "        days_in_holiday = 0\n",
    "        index_start = index\n",
    "        \n",
    "del data_for_cities[0]  \n",
    "del holidays[0]"
   ]
  },
  {
   "cell_type": "code",
   "execution_count": 305,
   "metadata": {},
   "outputs": [],
   "source": [
    "#data_for_cities"
   ]
  },
  {
   "cell_type": "code",
   "execution_count": 306,
   "metadata": {},
   "outputs": [],
   "source": [
    "data_cities = pd.DataFrame(data_for_cities, columns=['location', 'start', 'days', 'finish', 'post_count'])"
   ]
  },
  {
   "cell_type": "code",
   "execution_count": 307,
   "metadata": {
    "scrolled": true
   },
   "outputs": [
    {
     "data": {
      "text/html": [
       "<div>\n",
       "<style scoped>\n",
       "    .dataframe tbody tr th:only-of-type {\n",
       "        vertical-align: middle;\n",
       "    }\n",
       "\n",
       "    .dataframe tbody tr th {\n",
       "        vertical-align: top;\n",
       "    }\n",
       "\n",
       "    .dataframe thead th {\n",
       "        text-align: right;\n",
       "    }\n",
       "</style>\n",
       "<table border=\"1\" class=\"dataframe\">\n",
       "  <thead>\n",
       "    <tr style=\"text-align: right;\">\n",
       "      <th></th>\n",
       "      <th>location</th>\n",
       "      <th>start</th>\n",
       "      <th>days</th>\n",
       "      <th>finish</th>\n",
       "      <th>post_count</th>\n",
       "    </tr>\n",
       "  </thead>\n",
       "  <tbody>\n",
       "    <tr>\n",
       "      <th>0</th>\n",
       "      <td>Almaty, Kazakhstan</td>\n",
       "      <td>2018-10-29 16:45:45</td>\n",
       "      <td>240</td>\n",
       "      <td>2019-06-26 16:45:45</td>\n",
       "      <td>3</td>\n",
       "    </tr>\n",
       "    <tr>\n",
       "      <th>1</th>\n",
       "      <td>New York, New York</td>\n",
       "      <td>2018-10-04 21:31:12</td>\n",
       "      <td>39</td>\n",
       "      <td>2018-11-12 21:31:12</td>\n",
       "      <td>2</td>\n",
       "    </tr>\n",
       "    <tr>\n",
       "      <th>2</th>\n",
       "      <td>London, United Kingdom</td>\n",
       "      <td>2018-08-05 19:42:35</td>\n",
       "      <td>27</td>\n",
       "      <td>2018-09-01 19:42:35</td>\n",
       "      <td>2</td>\n",
       "    </tr>\n",
       "    <tr>\n",
       "      <th>3</th>\n",
       "      <td>Switzerland</td>\n",
       "      <td>2018-03-26 19:46:22</td>\n",
       "      <td>1</td>\n",
       "      <td>2018-03-27 19:46:22</td>\n",
       "      <td>2</td>\n",
       "    </tr>\n",
       "  </tbody>\n",
       "</table>\n",
       "</div>"
      ],
      "text/plain": [
       "                 location               start  days              finish  \\\n",
       "0      Almaty, Kazakhstan 2018-10-29 16:45:45   240 2019-06-26 16:45:45   \n",
       "1      New York, New York 2018-10-04 21:31:12    39 2018-11-12 21:31:12   \n",
       "2  London, United Kingdom 2018-08-05 19:42:35    27 2018-09-01 19:42:35   \n",
       "3             Switzerland 2018-03-26 19:46:22     1 2018-03-27 19:46:22   \n",
       "\n",
       "   post_count  \n",
       "0           3  \n",
       "1           2  \n",
       "2           2  \n",
       "3           2  "
      ]
     },
     "execution_count": 307,
     "metadata": {},
     "output_type": "execute_result"
    }
   ],
   "source": [
    "data_cities"
   ]
  },
  {
   "cell_type": "markdown",
   "metadata": {},
   "source": [
    "# cities how many days was there"
   ]
  },
  {
   "cell_type": "code",
   "execution_count": 308,
   "metadata": {},
   "outputs": [
    {
     "data": {
      "image/png": "[encoded data removed]",
      "text/plain": [
       "<Figure size 720x360 with 1 Axes>"
      ]
     },
     "metadata": {
      "needs_background": "light"
     },
     "output_type": "display_data"
    }
   ],
   "source": [
    "d = data_cities.groupby('location')['days'].sum()\n",
    "d = pd.DataFrame({'location': d.index, 'days': d.values})\n",
    "d.plot.bar(x='location', y='days', rot=0, figsize=(10, 5));"
   ]
  },
  {
   "cell_type": "markdown",
   "metadata": {},
   "source": [
    "# how many times he was there"
   ]
  },
  {
   "cell_type": "code",
   "execution_count": 297,
   "metadata": {},
   "outputs": [
    {
     "data": {
      "image/png": "[encoded data removed]",
      "text/plain": [
       "<Figure size 720x360 with 1 Axes>"
      ]
     },
     "metadata": {
      "needs_background": "light"
     },
     "output_type": "display_data"
    }
   ],
   "source": [
    "d = data_cities.groupby('location')['days'].count()\n",
    "d = pd.DataFrame({'location': d.index, 'days': d.values})\n",
    "d.plot.bar(x='location', y='days', rot=0, figsize=(10, 5));"
   ]
  },
  {
   "cell_type": "code",
   "execution_count": null,
   "metadata": {},
   "outputs": [],
   "source": []
  }
 ],
 "metadata": {
  "kernelspec": {
   "display_name": "Python 3",
   "language": "python",
   "name": "python3"
  },
  "language_info": {
   "codemirror_mode": {
    "name": "ipython",
    "version": 3
   },
   "file_extension": ".py",
   "mimetype": "text/x-python",
   "name": "python",
   "nbconvert_exporter": "python",
   "pygments_lexer": "ipython3",
   "version": "3.7.1"
  }
 },
 "nbformat": 4,
 "nbformat_minor": 2
}
